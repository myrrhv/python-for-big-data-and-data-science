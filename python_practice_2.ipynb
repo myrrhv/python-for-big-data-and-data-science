{
  "nbformat": 4,
  "nbformat_minor": 0,
  "metadata": {
    "colab": {
      "provenance": []
    },
    "kernelspec": {
      "name": "python3",
      "display_name": "Python 3"
    },
    "language_info": {
      "name": "python"
    }
  },
  "cells": [
    {
      "cell_type": "markdown",
      "source": [
        "# I. Змінні та памʼять."
      ],
      "metadata": {
        "id": "p9wwt0LZzNvn"
      }
    },
    {
      "cell_type": "markdown",
      "source": [
        "1. Створити змінні, що посилаються на два цілих числа, що однакові за значенням, де значення належить проміжку від -5 до 256. Перевірте, чи будуть ці змінні рівні тільки за значенням або ж ще будуть посилатися на один і той самий обʼєкт в памʼяті? Наведіть код та дайте текстову відповідь нижче."
      ],
      "metadata": {
        "id": "HTJrrm95xSV9"
      }
    },
    {
      "cell_type": "code",
      "execution_count": 1,
      "metadata": {
        "id": "TATni2vzayjG",
        "colab": {
          "base_uri": "https://localhost:8080/"
        },
        "outputId": "1131d8fa-669d-42c0-ec09-9a8e50e4227e"
      },
      "outputs": [
        {
          "output_type": "stream",
          "name": "stdout",
          "text": [
            "True\n",
            "False\n"
          ]
        }
      ],
      "source": [
        "a = 42\n",
        "b = 42\n",
        "\n",
        "print(a is b)\n",
        "\n",
        "c = 300\n",
        "d = 300\n",
        "\n",
        "print(c is d)"
      ]
    },
    {
      "cell_type": "markdown",
      "source": [
        "Перш за все треба використати оператор is а не ==, щоб перевірити чи змінні посилаються на один і той самий об'єкт в пам'яті.\n",
        "В першому випадку, коли змінні дорівнють 42, виведеться True, в другому випадку, коли змінні дорівнюють 300 - False, бо цілі числа поза діапазоном -5 до 256 не кешуються. Отже, для цілих чисел в межах від -5 до 256 використовується концепція \"integer caching\" в пам'яті, тобто однакові значення можуть посилатися на один і той самий об'єкт."
      ],
      "metadata": {
        "id": "zfRG_o3WbRdg"
      }
    },
    {
      "cell_type": "markdown",
      "source": [
        "2. За допомогою якої функції можна перевірити належність змінної до вказаного типу даних (напр. чи змінна True посилається на значення булевого та цілочисленого типу)?"
      ],
      "metadata": {
        "id": "ISORzt6M3vAt"
      }
    },
    {
      "cell_type": "code",
      "source": [
        "test = True\n",
        "print(type(test) == bool)"
      ],
      "metadata": {
        "id": "9vL9CFaMbfyo",
        "colab": {
          "base_uri": "https://localhost:8080/"
        },
        "outputId": "b17b8fe7-f266-4759-db3e-0dd679f72d4e"
      },
      "execution_count": 4,
      "outputs": [
        {
          "output_type": "stream",
          "name": "stdout",
          "text": [
            "True\n"
          ]
        }
      ]
    },
    {
      "cell_type": "markdown",
      "source": [
        "# II. Цілі числа та числа з рухомою комою"
      ],
      "metadata": {
        "id": "tRxugKAxwYLw"
      }
    },
    {
      "cell_type": "markdown",
      "source": [
        "3. Створити дві змінні, що посилаються на будь-які ціле число та число з рухомою комою та продемонструвати такі арифметичні операції: додавання, віднімання, ділення, множення, ділення без залишку, ділення по модулю, приведення до ступеню. Всі результати операцій вивести на екран."
      ],
      "metadata": {
        "id": "NLHkgd5Gybc8"
      }
    },
    {
      "cell_type": "code",
      "source": [
        "integer_variable = 5\n",
        "float_variable = 2.5\n",
        "\n",
        "addition_result = integer_variable + float_variable\n",
        "print(f\"Додавання: {addition_result}\")\n",
        "\n",
        "subtraction_result = integer_variable - float_variable\n",
        "print(f\"Віднімання: {subtraction_result}\")\n",
        "\n",
        "division_result = integer_variable / float_variable\n",
        "print(f\"Ділення: {division_result}\")\n",
        "\n",
        "multiplication_result = integer_variable * float_variable\n",
        "print(f\"Множення: {multiplication_result}\")\n",
        "\n",
        "floor_division_result = integer_variable // float_variable\n",
        "print(f\"Ділення без залишку: {floor_division_result}\")\n",
        "\n",
        "modulo_result = integer_variable % float_variable\n",
        "print(f\"Ділення по модулю: {modulo_result}\")\n",
        "\n",
        "exponential_result = integer_variable ** 2\n",
        "print(f\"Приведення до ступеню: {exponential_result}\")"
      ],
      "metadata": {
        "id": "nb8u_3pjb2cA",
        "colab": {
          "base_uri": "https://localhost:8080/"
        },
        "outputId": "9dd84860-d69a-4ba5-8fab-32302d1bc14c"
      },
      "execution_count": 6,
      "outputs": [
        {
          "output_type": "stream",
          "name": "stdout",
          "text": [
            "Додавання: 7.5\n",
            "Віднімання: 2.5\n",
            "Ділення: 2.0\n",
            "Множення: 12.5\n",
            "Ділення без залишку: 2.0\n",
            "Ділення по модулю: 0.0\n",
            "Приведення до ступеню: 25\n"
          ]
        }
      ]
    },
    {
      "cell_type": "markdown",
      "source": [
        "4. Використовуючи змінні з вправи 3, продемонструйте механізм явного перетворення типів, де числа з рухомою комою перетворюються на цілі числа. Також визначте змінну, що посилається на значення булевого типу і спробуйте явно привести її до цілого числа."
      ],
      "metadata": {
        "id": "1kBClKgPzZnC"
      }
    },
    {
      "cell_type": "code",
      "source": [
        "integer_variable = 5\n",
        "float_variable = 2.5\n",
        "\n",
        "converted_integer = int(float_variable)\n",
        "print(f\"Перетворення float в int: {converted_integer}\")\n",
        "\n",
        "bool_variable = True\n",
        "\n",
        "int_from_bool = int(bool_variable)\n",
        "print(f\"Приведення булевої змінної до int: {int_from_bool}\")\n"
      ],
      "metadata": {
        "id": "TbqJbkeUcKsD",
        "colab": {
          "base_uri": "https://localhost:8080/"
        },
        "outputId": "048898c1-1e40-4844-f3c8-f51ac6adb1a7"
      },
      "execution_count": 8,
      "outputs": [
        {
          "output_type": "stream",
          "name": "stdout",
          "text": [
            "Перетворення float в int: 2\n",
            "Приведення булевої змінної до int: 1\n"
          ]
        }
      ]
    },
    {
      "cell_type": "markdown",
      "source": [
        "# IІІ. Рядки (String)."
      ],
      "metadata": {
        "id": "EVJ7AflwxrZi"
      }
    },
    {
      "cell_type": "markdown",
      "source": [
        "5. Створити пустий рядок двома різними способами."
      ],
      "metadata": {
        "id": "_s5ECzz9zE61"
      }
    },
    {
      "cell_type": "code",
      "source": [
        "str_1 = ''\n",
        "str_2 = str()"
      ],
      "metadata": {
        "id": "fkZJHu9Scvc-"
      },
      "execution_count": 9,
      "outputs": []
    },
    {
      "cell_type": "markdown",
      "source": [
        "6. Створити рядок з апострофом. Зробити його сирим. Вивести обидва рядка на екран."
      ],
      "metadata": {
        "id": "4Bdn9J3MzLf_"
      }
    },
    {
      "cell_type": "code",
      "source": [
        "str_ap = 'Hellooo\\'oooo'\n",
        "\n",
        "raw_str_ap = r'Hellooo\\'oooo'\n",
        "\n",
        "print(str_ap)\n",
        "print(raw_str_ap)\n"
      ],
      "metadata": {
        "id": "ivji_hsmc0GH",
        "colab": {
          "base_uri": "https://localhost:8080/"
        },
        "outputId": "8273f6da-ae75-4d33-ce54-be9c2167e47c"
      },
      "execution_count": 12,
      "outputs": [
        {
          "output_type": "stream",
          "name": "stdout",
          "text": [
            "Hellooo'oooo\n",
            "Hellooo\\'oooo\n"
          ]
        }
      ]
    },
    {
      "cell_type": "markdown",
      "source": [
        "7. Створити змінну, що буде посилатися на Ваше прізвище латинкою. Створити форматований рядок, який буде мати вигляд \"My surname is ______\", де на місці нижніх підкреслень буде Ваше прізвище зі змінної."
      ],
      "metadata": {
        "id": "bg_d8wM4z8dS"
      }
    },
    {
      "cell_type": "code",
      "source": [
        "my_surname = \"Valkovets\"\n",
        "\n",
        "formatted_string = f\"My surname is {my_surname}\"\n",
        "\n",
        "print(formatted_string)"
      ],
      "metadata": {
        "id": "kuxFgpWndACq",
        "colab": {
          "base_uri": "https://localhost:8080/"
        },
        "outputId": "8aef2973-fbe1-43e4-f2dd-37c5a6e575b7"
      },
      "execution_count": 14,
      "outputs": [
        {
          "output_type": "stream",
          "name": "stdout",
          "text": [
            "My surname is Valkovets\n"
          ]
        }
      ]
    },
    {
      "cell_type": "markdown",
      "source": [
        "8. Маючи рядок \"My dog is crazy.\" перетворити його на список [\"my\", \"dog\", \"is\", \"crazy\"]"
      ],
      "metadata": {
        "id": "1Nc6RqvQ0hxU"
      }
    },
    {
      "cell_type": "code",
      "source": [
        "original_string = \"My dog is crazy.\"\n",
        "\n",
        "word_list = original_string.lower().split()\n",
        "\n",
        "print(word_list)"
      ],
      "metadata": {
        "id": "w1Ya4RqedUhw",
        "colab": {
          "base_uri": "https://localhost:8080/"
        },
        "outputId": "8181c0f3-e787-4aca-fe14-3656153b92e5"
      },
      "execution_count": 15,
      "outputs": [
        {
          "output_type": "stream",
          "name": "stdout",
          "text": [
            "['my', 'dog', 'is', 'crazy.']\n"
          ]
        }
      ]
    },
    {
      "cell_type": "markdown",
      "source": [
        "# IV. Робота зі списками."
      ],
      "metadata": {
        "id": "GYVqN9uP1D4n"
      }
    },
    {
      "cell_type": "markdown",
      "source": [
        "9. Створити список двома різними за синтаксисом способами. За допомогою вбудованої функції обчисліть довжину одного з них."
      ],
      "metadata": {
        "id": "7-DeDunw2sO-"
      }
    },
    {
      "cell_type": "code",
      "source": [
        "list_1 = [1, 2, 3, 4, 5]\n",
        "\n",
        "list_2 = list(\"abcdef\")\n",
        "\n",
        "length_of_list_1 = len(list_1)\n",
        "print(\"Length of List 1:\", length_of_list_1)\n"
      ],
      "metadata": {
        "id": "zxg06Uuxdyoh",
        "colab": {
          "base_uri": "https://localhost:8080/"
        },
        "outputId": "0e32f44f-636e-4c4c-c0ed-d4dad3140192"
      },
      "execution_count": 18,
      "outputs": [
        {
          "output_type": "stream",
          "name": "stdout",
          "text": [
            "Length of List 1: 5\n"
          ]
        }
      ]
    },
    {
      "cell_type": "markdown",
      "source": [
        "10. Створіть два списка та за допомогою спеціального методу додайте другий з них в якості останнього елемента першого."
      ],
      "metadata": {
        "id": "8vmGUTjL22gI"
      }
    },
    {
      "cell_type": "code",
      "source": [
        "list_1 = [1, 2, 3]\n",
        "list_2 = [100, 800]\n",
        "\n",
        "list_1.extend([list_2])\n",
        "\n",
        "print(\"Updated List 1:\", list_1)"
      ],
      "metadata": {
        "id": "uHtjWYw7d7hm",
        "colab": {
          "base_uri": "https://localhost:8080/"
        },
        "outputId": "691425c5-38d5-4346-8334-9f93b790cf96"
      },
      "execution_count": 19,
      "outputs": [
        {
          "output_type": "stream",
          "name": "stdout",
          "text": [
            "Updated List 1: [1, 2, 3, [100, 800]]\n"
          ]
        }
      ]
    },
    {
      "cell_type": "markdown",
      "source": [
        "11. Створіть список, де елементами цього списку також є списки. Отримай перший елемент з останнього рядка та виведи значення на екран."
      ],
      "metadata": {
        "id": "JC3BkD-67_--"
      }
    },
    {
      "cell_type": "code",
      "source": [
        "my_list = [\n",
        "    [1, 2, 3],\n",
        "    [4, 5, 6],\n",
        "    [7, 8, 9]\n",
        "]\n",
        "\n",
        "last_sublist = my_list[-1]\n",
        "\n",
        "first_element_last_sublist = last_sublist[0]\n",
        "\n",
        "print(\"Перший елемент з останнього рядка:\", first_element_last_sublist)"
      ],
      "metadata": {
        "id": "Kz2jZHsGeLlz",
        "colab": {
          "base_uri": "https://localhost:8080/"
        },
        "outputId": "06f32d8d-a952-4445-b5d7-b696c8ac822d"
      },
      "execution_count": 20,
      "outputs": [
        {
          "output_type": "stream",
          "name": "stdout",
          "text": [
            "Перший елемент з останнього рядка: 7\n"
          ]
        }
      ]
    },
    {
      "cell_type": "markdown",
      "source": [
        "12. Створіть список з десяти елементів різного типу. Отримайте всі елементи, окрім двох перших та двох останніх та збережіть їх в новій змінній."
      ],
      "metadata": {
        "id": "JA47PKTv8zFK"
      }
    },
    {
      "cell_type": "code",
      "source": [
        "mixed_list = [1, 'two', 3.0, 'four', 5, [6, 7], True, (8, 9), 'ten', {'key': 'value'}]\n",
        "\n",
        "new_list = mixed_list[2:-2]\n",
        "\n",
        "print(\"Початковий список:\", mixed_list)\n",
        "print(\"Новий список:\", new_list)"
      ],
      "metadata": {
        "id": "_rHdUR-ueP4-",
        "colab": {
          "base_uri": "https://localhost:8080/"
        },
        "outputId": "0a9bc9c2-48f5-4b40-d375-4570a740a17c"
      },
      "execution_count": 22,
      "outputs": [
        {
          "output_type": "stream",
          "name": "stdout",
          "text": [
            "Початковий список: [1, 'two', 3.0, 'four', 5, [6, 7], True, (8, 9), 'ten', {'key': 'value'}]\n",
            "Новий список: [3.0, 'four', 5, [6, 7], True, (8, 9)]\n"
          ]
        }
      ]
    },
    {
      "cell_type": "markdown",
      "source": [
        "# V. Робота з кортежами."
      ],
      "metadata": {
        "id": "pCjR1dJb1Qbi"
      }
    },
    {
      "cell_type": "markdown",
      "source": [
        "14. Створити кортеж з один елементом."
      ],
      "metadata": {
        "id": "fAZCxAX06R_k"
      }
    },
    {
      "cell_type": "code",
      "source": [
        "single_element_tuple = (100,)"
      ],
      "metadata": {
        "id": "H7d82WkQev3e"
      },
      "execution_count": 23,
      "outputs": []
    },
    {
      "cell_type": "markdown",
      "source": [
        "15. Порівняйте список та кортеж. Назвіть схожості та відмінності, випадки використання."
      ],
      "metadata": {
        "id": "8LCtYcmI6w1M"
      }
    },
    {
      "cell_type": "markdown",
      "source": [
        "Списки та кортежі дозволяють зберігати групу елеметів, підтримують індексацію та зрізи, дозволяючи отримувати окремі елементи. Обидва можуть містити елементи різних типів даних.\n",
        "\n",
        "Відмінність є в тому, що списки є змінюваними (mutable), тобто їх можна модифікувати, додавати чи видаляти елементи. Натомість, кортежі є незмінюваними (immutable), і після створення їхні елементи не можуть бути змінені.\n",
        "\n",
        "Списки використовуються там, де потрібна динамічна змінюваність даних, наприклад, при накопиченні елементів у колекції. Кортежі використовуються в тих випадках, коли необхідна стійка, незмінювана колекція, особливо в якості ключів для словників або елементів множин.\n",
        "\n",
        "\n",
        "\n",
        "\n",
        "\n"
      ],
      "metadata": {
        "id": "fUsN1Hnue0C6"
      }
    },
    {
      "cell_type": "markdown",
      "source": [
        "16. Створіть кортеж з 11ти елементів чисел з рухомою комою та отримайте кожен парний за індексом елемент в зворотньому порядку. Наприклад, маючи (1.2, 2.3, 3.3, 4.3, 5.3, 6.3, 7.3, 8.3, 9.3, 0.3), отримати (0.3, 8.3, 6.3, 4.3, 2.3). Результат збережіть в нову змінну та виведіть на екран."
      ],
      "metadata": {
        "id": "m0xrwFijAmDD"
      }
    },
    {
      "cell_type": "code",
      "source": [
        "my_tuple = (1.2, 2.3, 3.3, 4.3, 5.3, 6.3, 7.3, 8.3, 9.3, 0.3, 11.3)\n",
        "\n",
        "result_tuple = my_tuple[::-2]\n",
        "\n",
        "print(\"Початковий кортеж:\", my_tuple)\n",
        "print(\"Результат:\", result_tuple)"
      ],
      "metadata": {
        "id": "p-5DAH6XfAGA",
        "colab": {
          "base_uri": "https://localhost:8080/"
        },
        "outputId": "0da426a4-da35-4d34-9f98-fd6b21073bd1"
      },
      "execution_count": 24,
      "outputs": [
        {
          "output_type": "stream",
          "name": "stdout",
          "text": [
            "Початковий кортеж: (1.2, 2.3, 3.3, 4.3, 5.3, 6.3, 7.3, 8.3, 9.3, 0.3, 11.3)\n",
            "Результат: (11.3, 9.3, 7.3, 5.3, 3.3, 1.2)\n"
          ]
        }
      ]
    },
    {
      "cell_type": "markdown",
      "source": [
        "# VI. Множини (Set)."
      ],
      "metadata": {
        "id": "rW_I9dt3x6cW"
      }
    },
    {
      "cell_type": "markdown",
      "source": [
        "17. Створити множину без елементів. Після цого за допомогою методу додайте кілька різних елементів до множини. Чи множини є змінним типом даних?"
      ],
      "metadata": {
        "id": "zNjRLHLw1Bgg"
      }
    },
    {
      "cell_type": "code",
      "source": [
        "my_set = set()\n",
        "\n",
        "my_set.add(1)\n",
        "my_set.add('hello')\n",
        "my_set.add(2.0)\n",
        "\n",
        "print(\"Множина:\", my_set)"
      ],
      "metadata": {
        "id": "KOv7zc2Kfo4N",
        "colab": {
          "base_uri": "https://localhost:8080/"
        },
        "outputId": "d26bc129-88e5-44ad-f2d2-284da7fca919"
      },
      "execution_count": 34,
      "outputs": [
        {
          "output_type": "stream",
          "name": "stdout",
          "text": [
            "Множина: {1, 'hello', 2.0}\n"
          ]
        }
      ]
    },
    {
      "cell_type": "markdown",
      "source": [
        "Так, множини в Python є змінним типом даних,тобто їхні елементи можна змінювати."
      ],
      "metadata": {
        "id": "vxS6dVYiftZQ"
      }
    },
    {
      "cell_type": "markdown",
      "source": [
        "18. Створити множину, маючи список my_list = [1, 1, 2, 67, 67, 8, 9]. Пояснити, чому \"зникли\" деякі елементи."
      ],
      "metadata": {
        "id": "gHpT0Zw_1HEF"
      }
    },
    {
      "cell_type": "code",
      "source": [
        "my_list = [1, 1, 2, 67, 67, 8, 9]\n",
        "\n",
        "my_set = set(my_list)\n",
        "\n",
        "print(\"Список:\", my_list)\n",
        "print(\"Множина:\", my_set)"
      ],
      "metadata": {
        "id": "qCN4uvJ_fxmu",
        "colab": {
          "base_uri": "https://localhost:8080/"
        },
        "outputId": "ef31e788-07ca-4b81-c9fd-d9fd49a11a51"
      },
      "execution_count": 26,
      "outputs": [
        {
          "output_type": "stream",
          "name": "stdout",
          "text": [
            "Список: [1, 1, 2, 67, 67, 8, 9]\n",
            "Множина: {1, 2, 67, 8, 9}\n"
          ]
        }
      ]
    },
    {
      "cell_type": "markdown",
      "source": [
        "В множині зберігаються лише унікальні значення, тому дублікати видалилися."
      ],
      "metadata": {
        "id": "tFNc1e20fyny"
      }
    },
    {
      "cell_type": "markdown",
      "source": [
        "19. Створіть дві множини. Продемонстуйте над ними операції: обʼєднання, різниці, пересічі та симетричної різниці. Використовуйте методи, що не змінюють множини, а створюють нові."
      ],
      "metadata": {
        "id": "SRMkGizS1UwY"
      }
    },
    {
      "cell_type": "code",
      "source": [
        "set_1 = {1, 2, 3, 4, 5}\n",
        "set_2 = {3, 4, 5, 6, 7}\n",
        "\n",
        "union_result = set_1.union(set_2)\n",
        "difference_result = set_1.difference(set_2)\n",
        "intersection_result = set_1.intersection(set_2)\n",
        "symmetric_difference_result = set_1.symmetric_difference(set_2)\n",
        "\n",
        "print(\"Множина 1:\", set_1)\n",
        "print(\"Множина 2:\", set_2)\n",
        "print(\"Об'єднання:\", union_result)\n",
        "print(\"Різниця:\", difference_result)\n",
        "print(\"Перетин:\", intersection_result)\n",
        "print(\"Симетрична різниця:\", symmetric_difference_result)\n"
      ],
      "metadata": {
        "id": "h0T-VuDnf3Ri",
        "colab": {
          "base_uri": "https://localhost:8080/"
        },
        "outputId": "ffc058f6-d243-465c-beb0-16166cbc5eab"
      },
      "execution_count": 27,
      "outputs": [
        {
          "output_type": "stream",
          "name": "stdout",
          "text": [
            "Множина 1: {1, 2, 3, 4, 5}\n",
            "Множина 2: {3, 4, 5, 6, 7}\n",
            "Об'єднання: {1, 2, 3, 4, 5, 6, 7}\n",
            "Різниця: {1, 2}\n",
            "Перетин: {3, 4, 5}\n",
            "Симетрична різниця: {1, 2, 6, 7}\n"
          ]
        }
      ]
    },
    {
      "cell_type": "markdown",
      "source": [
        "# VII. Словники (Dictionary)."
      ],
      "metadata": {
        "id": "kWc8gkzTx7Ea"
      }
    },
    {
      "cell_type": "markdown",
      "source": [
        "20. Створіть пустий словник. До нього додайте чотири пари елементів такі, щоб їхні ключі були різних типів. Чи може список бути ключем? Чому?"
      ],
      "metadata": {
        "id": "i5FLwj-B2ybQ"
      }
    },
    {
      "cell_type": "code",
      "source": [
        "my_dict = {}\n",
        "\n",
        "my_dict[1] = 'key1'\n",
        "my_dict['two'] = 'key2'\n",
        "my_dict[3.9] = 'key3'\n",
        "my_dict[(1, 2)] = 'key4'\n",
        "\n",
        "print(\"Словник:\", my_dict)"
      ],
      "metadata": {
        "id": "hxgv3BzrgLAV",
        "colab": {
          "base_uri": "https://localhost:8080/"
        },
        "outputId": "1af7781f-038d-49cd-a57a-0392ce967bce"
      },
      "execution_count": 32,
      "outputs": [
        {
          "output_type": "stream",
          "name": "stdout",
          "text": [
            "Словник: {1: 'key1', 'two': 'key2', 3.9: 'key3', (1, 2): 'key4'}\n"
          ]
        }
      ]
    },
    {
      "cell_type": "markdown",
      "source": [
        "ні, список не може бути ключем у словнику. Ключі у словнику повинні бути хешованими та незмінюваними об'єктами. Виникає помилка, якщо список зробити ключем - TypeError: unhashable type: 'list'"
      ],
      "metadata": {
        "id": "zwa7UVN-gR3m"
      }
    },
    {
      "cell_type": "markdown",
      "source": [
        "21. Створіть словник, де значенням в одній з пар теж буде словник, який теж має вкладений словник. Виведіть на екран значення, що міститься в словнику, що знаходиться на найнижчому рівні ієрархії вкладеності (найбільш внутрішній)."
      ],
      "metadata": {
        "id": "WM_pMlJsgoNf"
      }
    },
    {
      "cell_type": "code",
      "source": [
        "my_dict = {\n",
        "    'user_info': {\n",
        "        'name': 'John',\n",
        "        'age': 25,\n",
        "        'address': {\n",
        "            'city': 'Kyiv',\n",
        "            'zipcode': '12345'\n",
        "        }\n",
        "    },\n",
        "    'job_info': {\n",
        "        'position': 'Software Engineer',\n",
        "        'years_of_experience': 3\n",
        "    }\n",
        "}\n",
        "\n",
        "nested_value = my_dict['user_info']['address']['zipcode']\n",
        "\n",
        "print(\"Значення найбільш внутрішнього словника:\", nested_value)\n"
      ],
      "metadata": {
        "id": "60dlP7IHhAy4",
        "colab": {
          "base_uri": "https://localhost:8080/"
        },
        "outputId": "1314a331-a0a6-4328-dd1a-9f5d54e81b64"
      },
      "execution_count": 33,
      "outputs": [
        {
          "output_type": "stream",
          "name": "stdout",
          "text": [
            "Значення найбільш внутрішнього словника: 12345\n"
          ]
        }
      ]
    },
    {
      "cell_type": "markdown",
      "source": [
        "# Вітаю! Ви велика(ий) молодець, що впоралась(вся). Похваліть себе та побалуйте чимось приємним. Я Вами пишаюся."
      ],
      "metadata": {
        "id": "xOZP0hkx6cCr"
      }
    }
  ]
}